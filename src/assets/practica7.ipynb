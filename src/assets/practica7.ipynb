{
 "cells": [
  {
   "cell_type": "markdown",
   "id": "6084c3a5",
   "metadata": {},
   "source": [
    "Dr. Jesús Martí Gavilá. Departamento de Ingeniería Cartográfica, Geodesia y fotogrametría\n",
    "<font color=\"blue\" ><h1 align=center>PRÁCTICA 7</h1> <p> <h1 align=center> CURSO BÁSICO PYTHON: FICHERO GPX</h1></font>\n",
    "\n",
    "<a href=\"http://www.upv.es/titulaciones/GTI/indexc.html\"><img src = \"http://www.upv.es/imagenes/marcaUPVN1.png\" width =200 ></a>\n",
    "\n",
    "<h2 align=center>Grado Tecnologías Interactivas | Tecnologías de la Información Geográfica</h2>\n",
    "\n"
   ]
  },
  {
   "cell_type": "markdown",
   "id": "50e45167",
   "metadata": {},
   "source": [
    "# TAREA\n",
    "<div class=\"alert alert-block alert-info\" style=\"margin-top: 20px\">\n",
    "\n",
    "<b>Realizar un análisis de rendimiento a partir de un fichero GNSS con waypoints en formato GPX.</b>\n",
    "<p>\n",
    "    \n",
    "<h3>El resultado a obtener sera:</h3>  <p> \n",
    "   <li>\n",
    "       <a>Un Dataframe en formato HTML con los siguientes campos:<p><p>\n",
    "'Punto','Latitud','Longitud', 'Cota (m)', 'Hora', 'Distancia (m)','Dist_O (m)', 'Pendiente (%)', 'Velocidad (km/h)','Orientación (º)','Tiempo'</a><p>\n",
    "   </li>\n",
    "        \n",
    "   <li>\n",
    "       <a>Gráfico con los valores de distancia en el eje X y valores de pendiente y velocidad en la Y</a>\n",
    "   </li>\n",
    "\n",
    "   <li>\n",
    "       <a>Mapa interactivo</a>\n",
    "   </li>\n",
    "</div>"
   ]
  },
  {
   "cell_type": "markdown",
   "id": "e0942a8b",
   "metadata": {},
   "source": [
    "# Estructura GPX e importación de librerías"
   ]
  },
  {
   "cell_type": "code",
   "execution_count": null,
   "id": "a160db7d",
   "metadata": {},
   "outputs": [],
   "source": [
    "\n",
    "\"\"\"\n",
    "Creado Viernes 14 Oct 18:22:39 2022, @autor/es: .............................................................\n",
    "FORMATO EJEMPLO GPX\n",
    "<wpt lat=\"38.968484\" lon=\"-0.148688\">\n",
    "\t<ele>-6.847729</ele>\n",
    "\t<time>2020-10-06T15:42:19Z</time>\n",
    "\t<name>001</name>\n",
    "\t<sym>Flag, Blue</sym>\n",
    "</wpt>\n",
    "\"\"\"\n",
    "import pandas as pd\n",
    "import xml.etree.cElementTree as et\n",
    "import os\n",
    "import math as m\n",
    "from datetime import datetime\n",
    "import matplotlib.pyplot as plt"
   ]
  },
  {
   "cell_type": "markdown",
   "id": "5c812b77",
   "metadata": {},
   "source": [
    "# Fichero de entrada y Dataframe de salida"
   ]
  },
  {
   "cell_type": "code",
   "execution_count": null,
   "id": "fc46c20a",
   "metadata": {},
   "outputs": [],
   "source": [
    "# Introducción de datos. Solicitar al usuario el nombre del fichero sin extensión.\n",
    ".....................\n",
    ".....................\n",
    "# Este nombre también se utilizará para crear el fichero html\n",
    "...................\n",
    "..................\n"
   ]
  },
  {
   "cell_type": "code",
   "execution_count": null,
   "id": "313a36d2",
   "metadata": {},
   "outputs": [],
   "source": [
    "# Accedemos al XML y creamos un Dataframe con los campos arriba indicados\n",
    "docxml = et.parse(pathgpx)\n",
    "raiz = docxml.getroot()\n",
    "puntos = len(raiz)-1\n",
    "columnas = ['Punto','Latitud','Longitud', 'Cota (m)', 'Hora', 'Distancia (m)','Dist_O (m)', 'Pendiente (%)', 'Velocidad (km/h)','Orientación (º)','Tiempo']\n",
    "df = pd.DataFrame(columns=columnas)"
   ]
  },
  {
   "cell_type": "markdown",
   "id": "4a45ca4f",
   "metadata": {},
   "source": [
    "# Funciones de cálculo"
   ]
  },
  {
   "cell_type": "code",
   "execution_count": null,
   "id": "73f1afd1",
   "metadata": {},
   "outputs": [],
   "source": [
    "# Cálculo de la distancia parcial y al origen. función distacias\n",
    "def distancias ...............................\n",
    "\n"
   ]
  },
  {
   "cell_type": "code",
   "execution_count": null,
   "id": "911b9b39",
   "metadata": {},
   "outputs": [],
   "source": [
    "# Cálculo del acimut. Verificar la posición del punto B. funcion orientación\n",
    "def orientacion ..............................\n",
    "\n",
    "\n"
   ]
  },
  {
   "cell_type": "code",
   "execution_count": null,
   "id": "1402f2e8",
   "metadata": {},
   "outputs": [],
   "source": [
    "# Cálculo de la pendiente. En %. funcion pendiente\n",
    "def pendiente ................................\n",
    "\n",
    "\n"
   ]
  },
  {
   "cell_type": "code",
   "execution_count": null,
   "id": "2bb324c1",
   "metadata": {},
   "outputs": [],
   "source": [
    "# Cálculo de la velocidad. funcion velocidad\n",
    "def velocidad ................................\n",
    "\n",
    "\n",
    "\n"
   ]
  },
  {
   "cell_type": "markdown",
   "id": "bd19bdd1",
   "metadata": {},
   "source": [
    "# Obtención de los datos de entrada y llamada a funciones"
   ]
  },
  {
   "cell_type": "code",
   "execution_count": null,
   "id": "4dbdafbf",
   "metadata": {},
   "outputs": [],
   "source": [
    "waypoints = range (1,puntos,1)\n",
    "n = 0.00\n",
    "for i in waypoints:\n",
    "    # Datos del punto A\n",
    "    wpt1 = raiz[i]\n",
    "    lat1_g = float(wpt1.get(\"lat\"))\n",
    "    lon1_g = float(wpt1.get(\"lon\"))\n",
    "    lat1 = m.radians (lat1_g)\n",
    "    lon1 = m.radians (lon1_g)\n",
    "    ele1 = round(float(wpt1[0].text),3)\n",
    "    time1 = wpt1[1].text\n",
    "    if i == 1:\n",
    "        df_1 = pd.DataFrame([[i,lat1_g,lon1_g,ele1,time1,n,n,n,n,n,n]],columns = list(columnas))\n",
    "        df = pd.concat([df if not df.empty else None,df_1],ignore_index=True)  #controla si un dataframe esta vacio   \n",
    "# Incrementamos puntos       \n",
    "    i = i+1\n",
    "\n",
    "# Datos del punto B\n",
    "    wpt2 = raiz[i]\n",
    "    lat2_g = float(wpt2.get(\"lat\"))\n",
    "    lon2_g = float(wpt2.get(\"lon\"))\n",
    "    lat2 = m.radians(lat2_g)\n",
    "    lon2 = m.radians(lon2_g)\n",
    "    ele2 = round(float(wpt2[0].text),3)\n",
    "    time2 = wpt2[1].text\n",
    "\n",
    "# Llamar a las diferentes funciones y añadir los datos resultantes al Dataframe\n",
    "    d, dr = distancias(............................) #Introducir los parámetros necesarios para realizar el cálculo\n",
    "    acimut = orientacion(...........................) #Introducir los parámetros necesarios para realizar el cálculo\n",
    "    peng, pend, dg = pendiente(......................) #Introducir los parámetros necesarios para realizar el cálculo\n",
    "    tiempo, velkmh = velocidad(......................)#Introducir los parámetros necesarios para realizar el cálculo\n",
    "    df_1 = pd.DataFrame([[i,lat2_g,lon2_g,ele2,time2,dg,0.00,pend,velkmh,acimut,tiempo]],columns = list(columnas))\n",
    "    df = pd.concat([df,df_1],ignore_index=True )\n",
    "    \n",
    "    df['Dist_O (m)'] = .................................. # crear un comando para rellenar df['Dist_O (m)']"
   ]
  },
  {
   "cell_type": "markdown",
   "id": "7581b6a5",
   "metadata": {},
   "source": [
    "# Impresión y exportación de los obtenidos"
   ]
  },
  {
   "cell_type": "code",
   "execution_count": null,
   "id": "8f376a38",
   "metadata": {},
   "outputs": [],
   "source": [
    "# Imprimir los valores en formato HTML\n",
    ".................................................\n"
   ]
  },
  {
   "cell_type": "code",
   "execution_count": null,
   "id": "bf732fb3",
   "metadata": {},
   "outputs": [],
   "source": [
    "# Plotear el gráfico de rendimiento y guardar en JPG. Puedes ver ayuda en internet matplotlib.plot \n",
    "# Empieza para plotear 2 ejes\n",
    "fig, ax = plt.subplots()\n",
    "plt.plot(df[\"Dist_O (m)\"], df['Pendiente (%)'], marker = \"o\", label=\"Pendiente %\")\n",
    "......................................................................................................\n",
    "# indicar leyendas, titulo, etiquetas del eje X\n",
    "......................................................................................................\n",
    "# Exportar en JPG\n",
    "......................................................................................................\n"
   ]
  },
  {
   "cell_type": "markdown",
   "id": "67e312d2",
   "metadata": {},
   "source": [
    "# Mapa interactivo con Folium. Código ejemplo"
   ]
  },
  {
   "cell_type": "code",
   "execution_count": null,
   "id": "88415635",
   "metadata": {},
   "outputs": [],
   "source": [
    "#Instalar primeramente la libreria folium\n",
    "......................................................................................................\n",
    "\n",
    "#Código creación fichero decoordenadas\n",
    "df.loc[:,['Latitud','Longitud']].to_csv('coordenadas.csv',header=True, index=False) #obtienes los valores de latitud y longitud y creas un fichero de coordenadas\n",
    "lista_geo = pd.read_csv('coordenadas.csv').to_numpy().tolist()\n",
    "\n",
    "#Creación del mapa interactivo\n",
    "import folium\n",
    "from folium import plugins\n",
    "m = folium.Map()\n",
    "folium.plugins.AntPath(locations = lista_geo, popup = 'Ruta 20/11/2023', reverse=\"True\", dash_array=[10, 20], color='red', pulse_color = 'blue').add_to(m)\n",
    "m.fit_bounds(m.get_bounds())\n",
    "m\n"
   ]
  },
  {
   "cell_type": "code",
   "execution_count": null,
   "id": "520400aa",
   "metadata": {},
   "outputs": [],
   "source": []
  }
 ],
 "metadata": {
  "kernelspec": {
   "display_name": "Python 3 (ipykernel)",
   "language": "python",
   "name": "python3"
  },
  "language_info": {
   "codemirror_mode": {
    "name": "ipython",
    "version": 3
   },
   "file_extension": ".py",
   "mimetype": "text/x-python",
   "name": "python",
   "nbconvert_exporter": "python",
   "pygments_lexer": "ipython3",
   "version": "3.11.10"
  }
 },
 "nbformat": 4,
 "nbformat_minor": 5
}
